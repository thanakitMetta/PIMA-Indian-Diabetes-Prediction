{
  "nbformat": 4,
  "nbformat_minor": 0,
  "metadata": {
    "colab": {
      "provenance": []
    },
    "kernelspec": {
      "name": "python3",
      "display_name": "Python 3"
    },
    "language_info": {
      "name": "python"
    }
  },
  "cells": [
    {
      "cell_type": "markdown",
      "source": [
        "# Pima Indians Diabetes Database\n",
        "\n",
        "## Sources:\n",
        "- Original owners: `National Institute of Diabetes and Digestive and Kidney Diseases`\n",
        "- Donor of database: `Research Center, RMI Group Leader Applied Physics Laboratory, The Johns Hopkins University`\n",
        "- Number of Instances: 768\n",
        "- Number of Attributes: 8 plus class\n",
        "- For Each Attribute: (all numeric-valued)\n",
        "   1. Number of times pregnant\n",
        "   2. Plasma glucose concentration a 2 hours in an oral glucose tolerance test\n",
        "   3. Diastolic blood pressure (mm Hg)\n",
        "   4. Triceps skin fold thickness (mm)\n",
        "   5. 2-Hour serum insulin (mu U/ml)\n",
        "   6. Body mass index (weight in kg/(height in m)^2)\n",
        "   7. Diabetes pedigree function\n",
        "   8. Age (years)\n",
        "   9. Class variable (0 or 1)\n",
        "- Missing Attribute Values: Yes\n",
        "- Class Distribution:\n",
        "  * **Positive Tested** Class value = 1\n",
        "  * **Negative Tested** Class value = 0\n",
        "- Class Value  Number of instances\n",
        "  * Class 0: 500\n",
        "  * Class 1: 268"
      ],
      "metadata": {
        "id": "0yS9XmwcqKtq"
      }
    },
    {
      "cell_type": "markdown",
      "source": [
        "## Import neccessary libraries\n"
      ],
      "metadata": {
        "id": "xCkt8mpXuV7s"
      }
    },
    {
      "cell_type": "code",
      "execution_count": null,
      "metadata": {
        "id": "WltXMgIcoSh_"
      },
      "outputs": [],
      "source": [
        "from numpy import loadtxt\n",
        "import numpy as np\n",
        "from tensorflow.keras.models import Sequential\n",
        "from tensorflow.keras.layers import Dense\n",
        "\n",
        "import matplotlib.pyplot as plt\n",
        "%matplotlib inline"
      ]
    },
    {
      "cell_type": "markdown",
      "source": [
        "## Prepare data for training"
      ],
      "metadata": {
        "id": "XuZkvagpsn0Z"
      }
    },
    {
      "cell_type": "code",
      "source": [
        "# download diabetes datasest and its description\n",
        "!wget \"https://raw.githubusercontent.com/jbrownlee/Datasets/master/pima-indians-diabetes.data.csv\"\n",
        "!wget \"https://raw.githubusercontent.com/jbrownlee/Datasets/master/pima-indians-diabetes.names\""
      ],
      "metadata": {
        "id": "YVciuImOp4He",
        "outputId": "e874d13a-3d78-48f6-aa72-af78d6feb9ff",
        "colab": {
          "base_uri": "https://localhost:8080/"
        }
      },
      "execution_count": null,
      "outputs": [
        {
          "output_type": "stream",
          "name": "stdout",
          "text": [
            "--2023-09-24 12:32:43--  https://raw.githubusercontent.com/jbrownlee/Datasets/master/pima-indians-diabetes.data.csv\n",
            "Resolving raw.githubusercontent.com (raw.githubusercontent.com)... 185.199.109.133, 185.199.108.133, 185.199.110.133, ...\n",
            "Connecting to raw.githubusercontent.com (raw.githubusercontent.com)|185.199.109.133|:443... connected.\n",
            "HTTP request sent, awaiting response... 200 OK\n",
            "Length: 23278 (23K) [text/plain]\n",
            "Saving to: ‘pima-indians-diabetes.data.csv’\n",
            "\n",
            "\r          pima-indi   0%[                    ]       0  --.-KB/s               \rpima-indians-diabet 100%[===================>]  22.73K  --.-KB/s    in 0.002s  \n",
            "\n",
            "2023-09-24 12:32:43 (12.5 MB/s) - ‘pima-indians-diabetes.data.csv’ saved [23278/23278]\n",
            "\n",
            "--2023-09-24 12:32:43--  https://raw.githubusercontent.com/jbrownlee/Datasets/master/pima-indians-diabetes.names\n",
            "Resolving raw.githubusercontent.com (raw.githubusercontent.com)... 185.199.110.133, 185.199.108.133, 185.199.111.133, ...\n",
            "Connecting to raw.githubusercontent.com (raw.githubusercontent.com)|185.199.110.133|:443... connected.\n",
            "HTTP request sent, awaiting response... 200 OK\n",
            "Length: 3066 (3.0K) [text/plain]\n",
            "Saving to: ‘pima-indians-diabetes.names’\n",
            "\n",
            "pima-indians-diabet 100%[===================>]   2.99K  --.-KB/s    in 0s      \n",
            "\n",
            "2023-09-24 12:32:44 (42.5 MB/s) - ‘pima-indians-diabetes.names’ saved [3066/3066]\n",
            "\n"
          ]
        }
      ]
    },
    {
      "cell_type": "markdown",
      "source": [
        "## TODO 1: Split dataset into Input (X) and Output (y)\n",
        "\n",
        "**Score: 1%**\n",
        "\n",
        "**Input Variables (X):**\n",
        "1. Number of times pregnant\n",
        "2. Plasma glucose concentration at 2 hours in an oral glucose tolerance test\n",
        "3. Diastolic blood pressure (mm Hg)\n",
        "4. Triceps skin fold thickness (mm)\n",
        "5. 2-hour serum insulin (mu U/ml)\n",
        "6. Body mass index (weight in kg/(height in m)^2)\n",
        "7. Diabetes pedigree function\n",
        "8. Age (years)\n",
        "\n",
        "**Output Variables (y):**\n",
        "9. Class variable (0 or 1)\n",
        "\n",
        "**Guideline:**\n",
        "\n",
        "You can split the array into two arrays by selecting subsets of columns\n",
        "using the standard NumPy slice operator or “:”.\n",
        "\n",
        "Remember, in NumPy, the first column always started at 0\n",
        "\n",
        "**Instruction:**\n",
        "\n",
        "Split data into input (`X`) and output (`y`) variables, respectively. Repleace `None` to a number."
      ],
      "metadata": {
        "id": "ivhbe9h3uLNX"
      }
    },
    {
      "cell_type": "code",
      "source": [
        "# load the dataset\n",
        "dataset = loadtxt('/content/pima-indians-diabetes.data.csv', delimiter=',')\n",
        "X = dataset[:, :8]\n",
        "y = dataset[:, -1]"
      ],
      "metadata": {
        "id": "XGIAFis8tYTo"
      },
      "execution_count": null,
      "outputs": []
    },
    {
      "cell_type": "markdown",
      "source": [
        "## TODO 2: Training and Testing\n",
        "\n",
        "**Score: 1%**\n",
        "\n",
        "**Instruction:**\n",
        "\n",
        "Fill out `None` to split dataset into 80% and 20% for training and testing datasets, respectively.\n",
        "\n"
      ],
      "metadata": {
        "id": "iYh1SJ-ihi6Q"
      }
    },
    {
      "cell_type": "code",
      "source": [
        "train = 0.8\n",
        "train_b = int(np.rint(X.shape[0] * train))\n",
        "\n",
        "X_train = X[:train_b, :]\n",
        "y_train = y[:train_b]\n",
        "X_test  = X[train_b:, :]\n",
        "y_test  = y[train_b:]"
      ],
      "metadata": {
        "id": "HeEitxh9ctLJ"
      },
      "execution_count": null,
      "outputs": []
    },
    {
      "cell_type": "markdown",
      "source": [
        "## TODO 3: Build a model\n",
        "\n",
        "**Score: 1%**\n",
        "\n",
        "**Instruction:** Create a neural network model by adding each layer:\n",
        "- The model expects rows of data with 8 variables\n",
        "- The first hidden layer has 12 nodes and uses the `relu` activation function.\n",
        "- The second hidden layer has 8 nodes and uses the `relu` activation function.\n",
        "- The output layer has one node and uses the `sigmoid` activation function."
      ],
      "metadata": {
        "id": "xwmhbeYgtVjD"
      }
    },
    {
      "cell_type": "code",
      "source": [
        "model = Sequential()\n",
        "model.add(Dense(12, input_dim=8, activation='relu'))\n",
        "model.add(Dense(8, activation='relu'))\n",
        "model.add(Dense(1, activation='sigmoid'))"
      ],
      "metadata": {
        "id": "Q11E6R4iyKPD"
      },
      "execution_count": null,
      "outputs": []
    },
    {
      "cell_type": "markdown",
      "source": [
        "## TODO 4: Compile a model\n",
        "\n",
        "**Score: 1%**\n",
        "\n",
        "**Instruction:** Specify loss function and optimizer\n",
        "- Use cross entropy as the loss argument for a binary classification problems\n",
        "- Define an optimizer as the efficient stochastic gradient descent algorithm"
      ],
      "metadata": {
        "id": "ptRxeIlNlohf"
      }
    },
    {
      "cell_type": "code",
      "source": [
        "model.compile(\n",
        "    loss='binary_crossentropy',\n",
        "    optimizer='adam',\n",
        "    metrics=['accuracy']\n",
        ")"
      ],
      "metadata": {
        "id": "r8VfneILyLZx"
      },
      "execution_count": null,
      "outputs": []
    },
    {
      "cell_type": "markdown",
      "source": [
        "## TODO 5: Train a model\n",
        "\n",
        "**Score: 1%**\n",
        "\n",
        "**Instruction:** This problem will run for a small number of epochs (150) and use a relatively small batch size of 10"
      ],
      "metadata": {
        "id": "7fCP-v9qoh3Z"
      }
    },
    {
      "cell_type": "code",
      "source": [
        "# fit the keras model on the dataset\n",
        "hist = model.fit(\n",
        "    X, y,\n",
        "    epochs=150,\n",
        "    batch_size=10,\n",
        "    validation_data=(X_test, y_test),\n",
        "    verbose=1\n",
        ")"
      ],
      "metadata": {
        "id": "iMYuDoLU0TLQ",
        "outputId": "bb567bb0-f0e2-4398-dfac-eb7fba912c78",
        "colab": {
          "base_uri": "https://localhost:8080/"
        }
      },
      "execution_count": null,
      "outputs": [
        {
          "output_type": "stream",
          "name": "stdout",
          "text": [
            "Epoch 1/150\n",
            "77/77 [==============================] - 5s 36ms/step - loss: 2.4562 - accuracy: 0.5013 - val_loss: 0.8374 - val_accuracy: 0.4221\n",
            "Epoch 2/150\n",
            "77/77 [==============================] - 1s 9ms/step - loss: 0.7385 - accuracy: 0.5352 - val_loss: 0.6844 - val_accuracy: 0.6429\n",
            "Epoch 3/150\n",
            "77/77 [==============================] - 1s 13ms/step - loss: 0.6734 - accuracy: 0.6510 - val_loss: 0.6641 - val_accuracy: 0.6429\n",
            "Epoch 4/150\n",
            "77/77 [==============================] - 1s 8ms/step - loss: 0.6605 - accuracy: 0.6497 - val_loss: 0.6606 - val_accuracy: 0.6429\n",
            "Epoch 5/150\n",
            "77/77 [==============================] - 0s 6ms/step - loss: 0.6545 - accuracy: 0.6510 - val_loss: 0.6585 - val_accuracy: 0.6429\n",
            "Epoch 6/150\n",
            "77/77 [==============================] - 0s 4ms/step - loss: 0.6515 - accuracy: 0.6497 - val_loss: 0.6583 - val_accuracy: 0.6429\n",
            "Epoch 7/150\n",
            "77/77 [==============================] - 1s 7ms/step - loss: 0.6490 - accuracy: 0.6510 - val_loss: 0.6558 - val_accuracy: 0.6429\n",
            "Epoch 8/150\n",
            "77/77 [==============================] - 0s 6ms/step - loss: 0.6441 - accuracy: 0.6510 - val_loss: 0.6525 - val_accuracy: 0.6429\n",
            "Epoch 9/150\n",
            "77/77 [==============================] - 1s 7ms/step - loss: 0.6407 - accuracy: 0.6497 - val_loss: 0.6481 - val_accuracy: 0.6429\n",
            "Epoch 10/150\n",
            "77/77 [==============================] - 1s 8ms/step - loss: 0.6343 - accuracy: 0.6497 - val_loss: 0.6461 - val_accuracy: 0.6429\n",
            "Epoch 11/150\n",
            "77/77 [==============================] - 1s 8ms/step - loss: 0.6325 - accuracy: 0.6510 - val_loss: 0.6431 - val_accuracy: 0.6429\n",
            "Epoch 12/150\n",
            "77/77 [==============================] - 0s 5ms/step - loss: 0.6325 - accuracy: 0.6497 - val_loss: 0.6432 - val_accuracy: 0.6429\n",
            "Epoch 13/150\n",
            "77/77 [==============================] - 1s 7ms/step - loss: 0.6281 - accuracy: 0.6523 - val_loss: 0.6382 - val_accuracy: 0.6429\n",
            "Epoch 14/150\n",
            "77/77 [==============================] - 0s 6ms/step - loss: 0.6261 - accuracy: 0.6497 - val_loss: 0.6366 - val_accuracy: 0.6429\n",
            "Epoch 15/150\n",
            "77/77 [==============================] - 0s 4ms/step - loss: 0.6277 - accuracy: 0.6510 - val_loss: 0.6350 - val_accuracy: 0.6429\n",
            "Epoch 16/150\n",
            "77/77 [==============================] - 0s 5ms/step - loss: 0.6229 - accuracy: 0.6484 - val_loss: 0.6297 - val_accuracy: 0.6429\n",
            "Epoch 17/150\n",
            "77/77 [==============================] - 0s 6ms/step - loss: 0.6191 - accuracy: 0.6484 - val_loss: 0.6277 - val_accuracy: 0.6429\n",
            "Epoch 18/150\n",
            "77/77 [==============================] - 0s 5ms/step - loss: 0.6158 - accuracy: 0.6497 - val_loss: 0.6282 - val_accuracy: 0.6429\n",
            "Epoch 19/150\n",
            "77/77 [==============================] - 0s 4ms/step - loss: 0.6146 - accuracy: 0.6510 - val_loss: 0.6209 - val_accuracy: 0.6429\n",
            "Epoch 20/150\n",
            "77/77 [==============================] - 0s 4ms/step - loss: 0.6132 - accuracy: 0.6497 - val_loss: 0.6150 - val_accuracy: 0.6429\n",
            "Epoch 21/150\n",
            "77/77 [==============================] - 1s 7ms/step - loss: 0.6120 - accuracy: 0.6510 - val_loss: 0.6133 - val_accuracy: 0.6429\n",
            "Epoch 22/150\n",
            "77/77 [==============================] - 1s 13ms/step - loss: 0.6100 - accuracy: 0.6510 - val_loss: 0.6117 - val_accuracy: 0.6429\n",
            "Epoch 23/150\n",
            "77/77 [==============================] - 1s 7ms/step - loss: 0.6085 - accuracy: 0.6523 - val_loss: 0.6141 - val_accuracy: 0.6429\n",
            "Epoch 24/150\n",
            "77/77 [==============================] - 0s 4ms/step - loss: 0.6055 - accuracy: 0.6510 - val_loss: 0.6034 - val_accuracy: 0.6429\n",
            "Epoch 25/150\n",
            "77/77 [==============================] - 0s 4ms/step - loss: 0.6034 - accuracy: 0.6523 - val_loss: 0.6005 - val_accuracy: 0.6429\n",
            "Epoch 26/150\n",
            "77/77 [==============================] - 0s 4ms/step - loss: 0.6071 - accuracy: 0.6523 - val_loss: 0.6075 - val_accuracy: 0.6429\n",
            "Epoch 27/150\n",
            "77/77 [==============================] - 0s 4ms/step - loss: 0.6049 - accuracy: 0.6510 - val_loss: 0.5967 - val_accuracy: 0.6429\n",
            "Epoch 28/150\n",
            "77/77 [==============================] - 0s 3ms/step - loss: 0.6044 - accuracy: 0.6510 - val_loss: 0.5959 - val_accuracy: 0.6429\n",
            "Epoch 29/150\n",
            "77/77 [==============================] - 0s 3ms/step - loss: 0.5993 - accuracy: 0.6523 - val_loss: 0.5957 - val_accuracy: 0.6429\n",
            "Epoch 30/150\n",
            "77/77 [==============================] - 0s 3ms/step - loss: 0.5990 - accuracy: 0.6497 - val_loss: 0.5914 - val_accuracy: 0.6429\n",
            "Epoch 31/150\n",
            "77/77 [==============================] - 0s 3ms/step - loss: 0.5976 - accuracy: 0.6510 - val_loss: 0.5905 - val_accuracy: 0.6429\n",
            "Epoch 32/150\n",
            "77/77 [==============================] - 0s 3ms/step - loss: 0.5972 - accuracy: 0.6523 - val_loss: 0.5907 - val_accuracy: 0.6429\n",
            "Epoch 33/150\n",
            "77/77 [==============================] - 0s 2ms/step - loss: 0.5982 - accuracy: 0.6497 - val_loss: 0.5881 - val_accuracy: 0.6429\n",
            "Epoch 34/150\n",
            "77/77 [==============================] - 0s 3ms/step - loss: 0.5959 - accuracy: 0.6523 - val_loss: 0.5865 - val_accuracy: 0.6429\n",
            "Epoch 35/150\n",
            "77/77 [==============================] - 0s 2ms/step - loss: 0.5952 - accuracy: 0.6523 - val_loss: 0.5907 - val_accuracy: 0.6429\n",
            "Epoch 36/150\n",
            "77/77 [==============================] - 0s 2ms/step - loss: 0.5954 - accuracy: 0.6510 - val_loss: 0.5833 - val_accuracy: 0.6429\n",
            "Epoch 37/150\n",
            "77/77 [==============================] - 0s 2ms/step - loss: 0.5933 - accuracy: 0.6523 - val_loss: 0.5868 - val_accuracy: 0.6429\n",
            "Epoch 38/150\n",
            "77/77 [==============================] - 0s 2ms/step - loss: 0.5920 - accuracy: 0.6497 - val_loss: 0.5840 - val_accuracy: 0.6429\n",
            "Epoch 39/150\n",
            "77/77 [==============================] - 0s 3ms/step - loss: 0.5926 - accuracy: 0.6523 - val_loss: 0.5817 - val_accuracy: 0.6429\n",
            "Epoch 40/150\n",
            "77/77 [==============================] - 0s 4ms/step - loss: 0.5896 - accuracy: 0.6536 - val_loss: 0.5822 - val_accuracy: 0.6429\n",
            "Epoch 41/150\n",
            "77/77 [==============================] - 0s 3ms/step - loss: 0.5906 - accuracy: 0.6523 - val_loss: 0.5807 - val_accuracy: 0.6429\n",
            "Epoch 42/150\n",
            "77/77 [==============================] - 0s 2ms/step - loss: 0.5872 - accuracy: 0.6523 - val_loss: 0.5794 - val_accuracy: 0.6429\n",
            "Epoch 43/150\n",
            "77/77 [==============================] - 0s 2ms/step - loss: 0.5882 - accuracy: 0.6510 - val_loss: 0.5770 - val_accuracy: 0.6429\n",
            "Epoch 44/150\n",
            "77/77 [==============================] - 0s 2ms/step - loss: 0.5881 - accuracy: 0.6523 - val_loss: 0.5792 - val_accuracy: 0.6429\n",
            "Epoch 45/150\n",
            "77/77 [==============================] - 0s 2ms/step - loss: 0.5918 - accuracy: 0.6536 - val_loss: 0.5748 - val_accuracy: 0.6429\n",
            "Epoch 46/150\n",
            "77/77 [==============================] - 0s 3ms/step - loss: 0.5874 - accuracy: 0.6484 - val_loss: 0.5752 - val_accuracy: 0.7468\n",
            "Epoch 47/150\n",
            "77/77 [==============================] - 0s 3ms/step - loss: 0.5875 - accuracy: 0.7083 - val_loss: 0.5768 - val_accuracy: 0.7403\n",
            "Epoch 48/150\n",
            "77/77 [==============================] - 0s 2ms/step - loss: 0.5857 - accuracy: 0.7188 - val_loss: 0.5726 - val_accuracy: 0.7143\n",
            "Epoch 49/150\n",
            "77/77 [==============================] - 0s 3ms/step - loss: 0.5906 - accuracy: 0.7135 - val_loss: 0.5783 - val_accuracy: 0.7013\n",
            "Epoch 50/150\n",
            "77/77 [==============================] - 0s 2ms/step - loss: 0.5858 - accuracy: 0.7096 - val_loss: 0.5725 - val_accuracy: 0.7208\n",
            "Epoch 51/150\n",
            "77/77 [==============================] - 0s 2ms/step - loss: 0.5856 - accuracy: 0.7266 - val_loss: 0.5750 - val_accuracy: 0.7338\n",
            "Epoch 52/150\n",
            "77/77 [==============================] - 0s 2ms/step - loss: 0.5819 - accuracy: 0.7148 - val_loss: 0.5735 - val_accuracy: 0.7143\n",
            "Epoch 53/150\n",
            "77/77 [==============================] - 0s 3ms/step - loss: 0.5896 - accuracy: 0.7148 - val_loss: 0.5737 - val_accuracy: 0.7208\n",
            "Epoch 54/150\n",
            "77/77 [==============================] - 0s 2ms/step - loss: 0.5847 - accuracy: 0.7135 - val_loss: 0.5726 - val_accuracy: 0.7338\n",
            "Epoch 55/150\n",
            "77/77 [==============================] - 0s 2ms/step - loss: 0.5819 - accuracy: 0.7201 - val_loss: 0.5739 - val_accuracy: 0.7338\n",
            "Epoch 56/150\n",
            "77/77 [==============================] - 0s 2ms/step - loss: 0.5881 - accuracy: 0.7031 - val_loss: 0.5693 - val_accuracy: 0.7338\n",
            "Epoch 57/150\n",
            "77/77 [==============================] - 0s 3ms/step - loss: 0.5819 - accuracy: 0.6953 - val_loss: 0.5789 - val_accuracy: 0.7013\n",
            "Epoch 58/150\n",
            "77/77 [==============================] - 0s 2ms/step - loss: 0.5841 - accuracy: 0.7083 - val_loss: 0.5692 - val_accuracy: 0.7468\n",
            "Epoch 59/150\n",
            "77/77 [==============================] - 0s 2ms/step - loss: 0.5804 - accuracy: 0.7122 - val_loss: 0.5663 - val_accuracy: 0.7403\n",
            "Epoch 60/150\n",
            "77/77 [==============================] - 0s 2ms/step - loss: 0.5819 - accuracy: 0.7018 - val_loss: 0.5712 - val_accuracy: 0.7338\n",
            "Epoch 61/150\n",
            "77/77 [==============================] - 0s 3ms/step - loss: 0.5829 - accuracy: 0.6992 - val_loss: 0.5749 - val_accuracy: 0.7143\n",
            "Epoch 62/150\n",
            "77/77 [==============================] - 0s 2ms/step - loss: 0.5828 - accuracy: 0.6927 - val_loss: 0.5643 - val_accuracy: 0.7597\n",
            "Epoch 63/150\n",
            "77/77 [==============================] - 0s 2ms/step - loss: 0.5832 - accuracy: 0.6927 - val_loss: 0.5656 - val_accuracy: 0.7338\n",
            "Epoch 64/150\n",
            "77/77 [==============================] - 0s 2ms/step - loss: 0.5812 - accuracy: 0.7070 - val_loss: 0.5643 - val_accuracy: 0.7468\n",
            "Epoch 65/150\n",
            "77/77 [==============================] - 0s 3ms/step - loss: 0.5830 - accuracy: 0.7057 - val_loss: 0.5634 - val_accuracy: 0.7532\n",
            "Epoch 66/150\n",
            "77/77 [==============================] - 0s 3ms/step - loss: 0.5856 - accuracy: 0.7031 - val_loss: 0.5677 - val_accuracy: 0.7403\n",
            "Epoch 67/150\n",
            "77/77 [==============================] - 0s 2ms/step - loss: 0.5813 - accuracy: 0.7148 - val_loss: 0.5647 - val_accuracy: 0.7468\n",
            "Epoch 68/150\n",
            "77/77 [==============================] - 0s 2ms/step - loss: 0.5797 - accuracy: 0.7018 - val_loss: 0.5660 - val_accuracy: 0.7532\n",
            "Epoch 69/150\n",
            "77/77 [==============================] - 0s 2ms/step - loss: 0.5772 - accuracy: 0.7148 - val_loss: 0.5623 - val_accuracy: 0.7597\n",
            "Epoch 70/150\n",
            "77/77 [==============================] - 0s 3ms/step - loss: 0.5733 - accuracy: 0.7109 - val_loss: 0.5899 - val_accuracy: 0.7208\n",
            "Epoch 71/150\n",
            "77/77 [==============================] - 0s 3ms/step - loss: 0.5771 - accuracy: 0.7161 - val_loss: 0.5619 - val_accuracy: 0.7662\n",
            "Epoch 72/150\n",
            "77/77 [==============================] - 0s 3ms/step - loss: 0.5747 - accuracy: 0.7188 - val_loss: 0.5731 - val_accuracy: 0.7597\n",
            "Epoch 73/150\n",
            "77/77 [==============================] - 0s 2ms/step - loss: 0.5837 - accuracy: 0.6966 - val_loss: 0.5621 - val_accuracy: 0.7338\n",
            "Epoch 74/150\n",
            "77/77 [==============================] - 0s 2ms/step - loss: 0.5817 - accuracy: 0.7122 - val_loss: 0.5590 - val_accuracy: 0.7727\n",
            "Epoch 75/150\n",
            "77/77 [==============================] - 0s 3ms/step - loss: 0.5766 - accuracy: 0.7109 - val_loss: 0.5599 - val_accuracy: 0.7403\n",
            "Epoch 76/150\n",
            "77/77 [==============================] - 0s 4ms/step - loss: 0.5771 - accuracy: 0.7161 - val_loss: 0.5612 - val_accuracy: 0.7273\n",
            "Epoch 77/150\n",
            "77/77 [==============================] - 0s 4ms/step - loss: 0.5762 - accuracy: 0.7135 - val_loss: 0.5587 - val_accuracy: 0.7597\n",
            "Epoch 78/150\n",
            "77/77 [==============================] - 0s 4ms/step - loss: 0.5786 - accuracy: 0.6979 - val_loss: 0.5589 - val_accuracy: 0.7273\n",
            "Epoch 79/150\n",
            "77/77 [==============================] - 0s 4ms/step - loss: 0.5727 - accuracy: 0.7044 - val_loss: 0.5583 - val_accuracy: 0.7468\n",
            "Epoch 80/150\n",
            "77/77 [==============================] - 0s 4ms/step - loss: 0.5776 - accuracy: 0.7161 - val_loss: 0.5563 - val_accuracy: 0.7532\n",
            "Epoch 81/150\n",
            "77/77 [==============================] - 0s 3ms/step - loss: 0.5742 - accuracy: 0.7122 - val_loss: 0.5599 - val_accuracy: 0.7662\n",
            "Epoch 82/150\n",
            "77/77 [==============================] - 0s 4ms/step - loss: 0.5763 - accuracy: 0.6953 - val_loss: 0.5576 - val_accuracy: 0.7403\n",
            "Epoch 83/150\n",
            "77/77 [==============================] - 0s 3ms/step - loss: 0.5775 - accuracy: 0.6953 - val_loss: 0.5558 - val_accuracy: 0.7532\n",
            "Epoch 84/150\n",
            "77/77 [==============================] - 0s 3ms/step - loss: 0.5724 - accuracy: 0.7292 - val_loss: 0.5635 - val_accuracy: 0.7532\n",
            "Epoch 85/150\n",
            "77/77 [==============================] - 0s 2ms/step - loss: 0.5806 - accuracy: 0.7109 - val_loss: 0.5601 - val_accuracy: 0.7662\n",
            "Epoch 86/150\n",
            "77/77 [==============================] - 0s 2ms/step - loss: 0.5801 - accuracy: 0.7109 - val_loss: 0.5583 - val_accuracy: 0.7532\n",
            "Epoch 87/150\n",
            "77/77 [==============================] - 0s 2ms/step - loss: 0.5770 - accuracy: 0.7174 - val_loss: 0.5608 - val_accuracy: 0.7727\n",
            "Epoch 88/150\n",
            "77/77 [==============================] - 0s 2ms/step - loss: 0.5718 - accuracy: 0.7122 - val_loss: 0.5675 - val_accuracy: 0.7338\n",
            "Epoch 89/150\n",
            "77/77 [==============================] - 0s 3ms/step - loss: 0.5725 - accuracy: 0.7057 - val_loss: 0.5568 - val_accuracy: 0.7532\n",
            "Epoch 90/150\n",
            "77/77 [==============================] - 0s 2ms/step - loss: 0.5769 - accuracy: 0.7044 - val_loss: 0.5568 - val_accuracy: 0.7338\n",
            "Epoch 91/150\n",
            "77/77 [==============================] - 0s 2ms/step - loss: 0.5711 - accuracy: 0.7135 - val_loss: 0.5613 - val_accuracy: 0.7532\n",
            "Epoch 92/150\n",
            "77/77 [==============================] - 0s 3ms/step - loss: 0.5764 - accuracy: 0.7057 - val_loss: 0.5714 - val_accuracy: 0.7532\n",
            "Epoch 93/150\n",
            "77/77 [==============================] - 0s 2ms/step - loss: 0.5758 - accuracy: 0.7070 - val_loss: 0.5539 - val_accuracy: 0.7532\n",
            "Epoch 94/150\n",
            "77/77 [==============================] - 0s 3ms/step - loss: 0.5733 - accuracy: 0.7109 - val_loss: 0.5596 - val_accuracy: 0.7532\n",
            "Epoch 95/150\n",
            "77/77 [==============================] - 0s 2ms/step - loss: 0.5736 - accuracy: 0.7122 - val_loss: 0.5548 - val_accuracy: 0.7597\n",
            "Epoch 96/150\n",
            "77/77 [==============================] - 0s 2ms/step - loss: 0.5729 - accuracy: 0.7122 - val_loss: 0.5546 - val_accuracy: 0.7597\n",
            "Epoch 97/150\n",
            "77/77 [==============================] - 0s 5ms/step - loss: 0.5723 - accuracy: 0.7122 - val_loss: 0.5528 - val_accuracy: 0.7597\n",
            "Epoch 98/150\n",
            "77/77 [==============================] - 0s 4ms/step - loss: 0.5714 - accuracy: 0.7057 - val_loss: 0.5605 - val_accuracy: 0.7468\n",
            "Epoch 99/150\n",
            "77/77 [==============================] - 0s 4ms/step - loss: 0.5713 - accuracy: 0.7096 - val_loss: 0.5503 - val_accuracy: 0.7532\n",
            "Epoch 100/150\n",
            "77/77 [==============================] - 0s 6ms/step - loss: 0.5724 - accuracy: 0.7070 - val_loss: 0.5573 - val_accuracy: 0.7532\n",
            "Epoch 101/150\n",
            "77/77 [==============================] - 0s 5ms/step - loss: 0.5760 - accuracy: 0.7057 - val_loss: 0.5588 - val_accuracy: 0.7532\n",
            "Epoch 102/150\n",
            "77/77 [==============================] - 0s 5ms/step - loss: 0.5697 - accuracy: 0.7161 - val_loss: 0.5533 - val_accuracy: 0.7532\n",
            "Epoch 103/150\n",
            "77/77 [==============================] - 0s 6ms/step - loss: 0.5691 - accuracy: 0.7070 - val_loss: 0.5769 - val_accuracy: 0.7273\n",
            "Epoch 104/150\n",
            "77/77 [==============================] - 0s 4ms/step - loss: 0.5720 - accuracy: 0.7096 - val_loss: 0.5706 - val_accuracy: 0.7208\n",
            "Epoch 105/150\n",
            "77/77 [==============================] - 0s 5ms/step - loss: 0.5742 - accuracy: 0.7161 - val_loss: 0.5621 - val_accuracy: 0.7338\n",
            "Epoch 106/150\n",
            "77/77 [==============================] - 1s 8ms/step - loss: 0.5710 - accuracy: 0.7305 - val_loss: 0.5498 - val_accuracy: 0.7662\n",
            "Epoch 107/150\n",
            "77/77 [==============================] - 1s 7ms/step - loss: 0.5697 - accuracy: 0.7161 - val_loss: 0.5584 - val_accuracy: 0.7403\n",
            "Epoch 108/150\n",
            "77/77 [==============================] - 0s 5ms/step - loss: 0.5737 - accuracy: 0.7005 - val_loss: 0.5646 - val_accuracy: 0.7532\n",
            "Epoch 109/150\n",
            "77/77 [==============================] - 0s 5ms/step - loss: 0.5733 - accuracy: 0.7188 - val_loss: 0.5531 - val_accuracy: 0.7143\n",
            "Epoch 110/150\n",
            "77/77 [==============================] - 0s 4ms/step - loss: 0.5679 - accuracy: 0.7083 - val_loss: 0.5875 - val_accuracy: 0.7013\n",
            "Epoch 111/150\n",
            "77/77 [==============================] - 0s 6ms/step - loss: 0.5757 - accuracy: 0.7109 - val_loss: 0.5499 - val_accuracy: 0.7597\n",
            "Epoch 112/150\n",
            "77/77 [==============================] - 0s 6ms/step - loss: 0.5690 - accuracy: 0.7227 - val_loss: 0.5699 - val_accuracy: 0.7273\n",
            "Epoch 113/150\n",
            "77/77 [==============================] - 1s 7ms/step - loss: 0.5725 - accuracy: 0.7018 - val_loss: 0.5606 - val_accuracy: 0.7468\n",
            "Epoch 114/150\n",
            "77/77 [==============================] - 1s 9ms/step - loss: 0.5687 - accuracy: 0.7109 - val_loss: 0.5535 - val_accuracy: 0.7597\n",
            "Epoch 115/150\n",
            "77/77 [==============================] - 1s 8ms/step - loss: 0.5664 - accuracy: 0.7135 - val_loss: 0.5522 - val_accuracy: 0.7727\n",
            "Epoch 116/150\n",
            "77/77 [==============================] - 1s 9ms/step - loss: 0.5665 - accuracy: 0.7122 - val_loss: 0.5485 - val_accuracy: 0.7597\n",
            "Epoch 117/150\n",
            "77/77 [==============================] - 1s 11ms/step - loss: 0.5669 - accuracy: 0.7174 - val_loss: 0.5481 - val_accuracy: 0.7662\n",
            "Epoch 118/150\n",
            "77/77 [==============================] - 1s 10ms/step - loss: 0.5657 - accuracy: 0.7122 - val_loss: 0.5521 - val_accuracy: 0.7468\n",
            "Epoch 119/150\n",
            "77/77 [==============================] - 0s 6ms/step - loss: 0.5672 - accuracy: 0.7174 - val_loss: 0.5484 - val_accuracy: 0.7727\n",
            "Epoch 120/150\n",
            "77/77 [==============================] - 1s 7ms/step - loss: 0.5706 - accuracy: 0.7031 - val_loss: 0.5544 - val_accuracy: 0.7597\n",
            "Epoch 121/150\n",
            "77/77 [==============================] - 0s 5ms/step - loss: 0.5664 - accuracy: 0.7122 - val_loss: 0.5482 - val_accuracy: 0.7468\n",
            "Epoch 122/150\n",
            "77/77 [==============================] - 1s 9ms/step - loss: 0.5640 - accuracy: 0.7148 - val_loss: 0.5462 - val_accuracy: 0.7468\n",
            "Epoch 123/150\n",
            "77/77 [==============================] - 0s 5ms/step - loss: 0.5623 - accuracy: 0.7214 - val_loss: 0.5667 - val_accuracy: 0.7273\n",
            "Epoch 124/150\n",
            "77/77 [==============================] - 0s 2ms/step - loss: 0.5696 - accuracy: 0.7057 - val_loss: 0.5546 - val_accuracy: 0.7532\n",
            "Epoch 125/150\n",
            "77/77 [==============================] - 0s 2ms/step - loss: 0.5676 - accuracy: 0.7057 - val_loss: 0.5443 - val_accuracy: 0.7532\n",
            "Epoch 126/150\n",
            "77/77 [==============================] - 0s 3ms/step - loss: 0.5663 - accuracy: 0.6979 - val_loss: 0.5477 - val_accuracy: 0.7597\n",
            "Epoch 127/150\n",
            "77/77 [==============================] - 0s 3ms/step - loss: 0.5646 - accuracy: 0.7148 - val_loss: 0.5439 - val_accuracy: 0.7727\n",
            "Epoch 128/150\n",
            "77/77 [==============================] - 0s 2ms/step - loss: 0.5643 - accuracy: 0.7148 - val_loss: 0.5444 - val_accuracy: 0.7597\n",
            "Epoch 129/150\n",
            "77/77 [==============================] - 0s 2ms/step - loss: 0.5761 - accuracy: 0.7057 - val_loss: 0.5467 - val_accuracy: 0.7532\n",
            "Epoch 130/150\n",
            "77/77 [==============================] - 0s 2ms/step - loss: 0.5717 - accuracy: 0.7070 - val_loss: 0.5466 - val_accuracy: 0.7597\n",
            "Epoch 131/150\n",
            "77/77 [==============================] - 0s 2ms/step - loss: 0.5620 - accuracy: 0.7135 - val_loss: 0.5434 - val_accuracy: 0.7597\n",
            "Epoch 132/150\n",
            "77/77 [==============================] - 0s 3ms/step - loss: 0.5636 - accuracy: 0.7135 - val_loss: 0.5424 - val_accuracy: 0.7662\n",
            "Epoch 133/150\n",
            "77/77 [==============================] - 0s 2ms/step - loss: 0.5613 - accuracy: 0.7148 - val_loss: 0.5562 - val_accuracy: 0.7532\n",
            "Epoch 134/150\n",
            "77/77 [==============================] - 0s 2ms/step - loss: 0.5655 - accuracy: 0.7214 - val_loss: 0.5516 - val_accuracy: 0.7532\n",
            "Epoch 135/150\n",
            "77/77 [==============================] - 0s 3ms/step - loss: 0.5704 - accuracy: 0.7031 - val_loss: 0.5414 - val_accuracy: 0.7597\n",
            "Epoch 136/150\n",
            "77/77 [==============================] - 0s 2ms/step - loss: 0.5624 - accuracy: 0.7096 - val_loss: 0.5450 - val_accuracy: 0.7532\n",
            "Epoch 137/150\n",
            "77/77 [==============================] - 0s 3ms/step - loss: 0.5701 - accuracy: 0.7161 - val_loss: 0.5434 - val_accuracy: 0.7662\n",
            "Epoch 138/150\n",
            "77/77 [==============================] - 0s 2ms/step - loss: 0.5692 - accuracy: 0.7070 - val_loss: 0.5727 - val_accuracy: 0.7338\n",
            "Epoch 139/150\n",
            "77/77 [==============================] - 0s 2ms/step - loss: 0.5661 - accuracy: 0.7070 - val_loss: 0.5533 - val_accuracy: 0.7597\n",
            "Epoch 140/150\n",
            "77/77 [==============================] - 0s 3ms/step - loss: 0.5614 - accuracy: 0.7214 - val_loss: 0.5544 - val_accuracy: 0.7532\n",
            "Epoch 141/150\n",
            "77/77 [==============================] - 0s 2ms/step - loss: 0.5676 - accuracy: 0.7096 - val_loss: 0.5453 - val_accuracy: 0.7532\n",
            "Epoch 142/150\n",
            "77/77 [==============================] - 0s 2ms/step - loss: 0.5645 - accuracy: 0.7279 - val_loss: 0.5822 - val_accuracy: 0.7273\n",
            "Epoch 143/150\n",
            "77/77 [==============================] - 0s 2ms/step - loss: 0.5632 - accuracy: 0.7083 - val_loss: 0.5403 - val_accuracy: 0.7597\n",
            "Epoch 144/150\n",
            "77/77 [==============================] - 0s 2ms/step - loss: 0.5624 - accuracy: 0.7305 - val_loss: 0.5392 - val_accuracy: 0.7532\n",
            "Epoch 145/150\n",
            "77/77 [==============================] - 0s 3ms/step - loss: 0.5559 - accuracy: 0.7161 - val_loss: 0.5480 - val_accuracy: 0.7468\n",
            "Epoch 146/150\n",
            "77/77 [==============================] - 0s 2ms/step - loss: 0.5669 - accuracy: 0.7057 - val_loss: 0.5400 - val_accuracy: 0.7662\n",
            "Epoch 147/150\n",
            "77/77 [==============================] - 0s 3ms/step - loss: 0.5640 - accuracy: 0.7161 - val_loss: 0.5689 - val_accuracy: 0.7338\n",
            "Epoch 148/150\n",
            "77/77 [==============================] - 0s 2ms/step - loss: 0.5613 - accuracy: 0.7135 - val_loss: 0.5385 - val_accuracy: 0.7662\n",
            "Epoch 149/150\n",
            "77/77 [==============================] - 0s 3ms/step - loss: 0.5572 - accuracy: 0.7214 - val_loss: 0.5393 - val_accuracy: 0.7597\n",
            "Epoch 150/150\n",
            "77/77 [==============================] - 0s 3ms/step - loss: 0.5595 - accuracy: 0.7266 - val_loss: 0.5393 - val_accuracy: 0.7662\n"
          ]
        }
      ]
    },
    {
      "cell_type": "markdown",
      "source": [
        "## Evaluation\n",
        "\n",
        "At this stage, if your code works correctly, you should get accuracy of 76%.\n",
        "\n",
        "**Question:** Do you think this model is efficient? Why don't you just investigate deeper?"
      ],
      "metadata": {
        "id": "2rZckN3cpSWK"
      }
    },
    {
      "cell_type": "code",
      "source": [
        "_, score = model.evaluate(X_test, y_test, verbose=0)\n",
        "print(\"Accuracy: \", score)\n",
        "\n",
        "plt.plot(hist.history['loss'])\n",
        "plt.plot(hist.history['val_loss'])\n",
        "plt.title('model loss')\n",
        "plt.ylabel('loss')\n",
        "plt.xlabel('epoch')\n",
        "plt.legend(['train', 'validation'], loc='upper right')\n",
        "plt.show()\n",
        "\n",
        "# summarize history for accuracy\n",
        "plt.plot(hist.history['accuracy'])\n",
        "plt.plot(hist.history['val_accuracy'])\n",
        "plt.title('model accuracy')\n",
        "plt.ylabel('accuracy')\n",
        "plt.xlabel('epoch')\n",
        "plt.legend(['train', 'test'], loc='upper left')\n",
        "plt.show()"
      ],
      "metadata": {
        "id": "DPfBZVnahUjf",
        "outputId": "e4a3fd3d-ef06-4ff6-9c99-5774a0dcacd5",
        "colab": {
          "base_uri": "https://localhost:8080/",
          "height": 944
        }
      },
      "execution_count": null,
      "outputs": [
        {
          "output_type": "stream",
          "name": "stdout",
          "text": [
            "Accuracy:  0.7662337422370911\n"
          ]
        },
        {
          "output_type": "display_data",
          "data": {
            "text/plain": [
              "<Figure size 640x480 with 1 Axes>"
            ],
            "image/png": "[encoded data removed]"
          },
          "metadata": {}
        },
        {
          "output_type": "display_data",
          "data": {
            "text/plain": [
              "<Figure size 640x480 with 1 Axes>"
            ],
            "image/png": "[encoded data removed]"
          },
          "metadata": {}
        }
      ]
    },
    {
      "cell_type": "markdown",
      "source": [
        "## Prediction"
      ],
      "metadata": {
        "id": "Vu4Zk4WkpWQ1"
      }
    },
    {
      "cell_type": "code",
      "source": [
        "# make class predictions with the model\n",
        "predictions = (model.predict(X) > 0.5).astype(int)\n",
        "# summarize the first 5 cases\n",
        "for i in range(10):\n",
        "\t  print('%s \\t=> %d (expected %d)' % (X[i].tolist(), predictions[i], y[i]))"
      ],
      "metadata": {
        "id": "j3WSkVlvpYWa",
        "outputId": "fd743148-7215-45c1-b349-83519ccf4755",
        "colab": {
          "base_uri": "https://localhost:8080/"
        }
      },
      "execution_count": null,
      "outputs": [
        {
          "output_type": "stream",
          "name": "stdout",
          "text": [
            "24/24 [==============================] - 0s 2ms/step\n",
            "[6.0, 148.0, 72.0, 35.0, 0.0, 33.6, 0.627, 50.0] \t=> 1 (expected 1)\n",
            "[1.0, 85.0, 66.0, 29.0, 0.0, 26.6, 0.351, 31.0] \t=> 0 (expected 0)\n",
            "[8.0, 183.0, 64.0, 0.0, 0.0, 23.3, 0.672, 32.0] \t=> 1 (expected 1)\n",
            "[1.0, 89.0, 66.0, 23.0, 94.0, 28.1, 0.167, 21.0] \t=> 0 (expected 0)\n",
            "[0.0, 137.0, 40.0, 35.0, 168.0, 43.1, 2.288, 33.0] \t=> 1 (expected 1)\n",
            "[5.0, 116.0, 74.0, 0.0, 0.0, 25.6, 0.201, 30.0] \t=> 0 (expected 0)\n",
            "[3.0, 78.0, 50.0, 32.0, 88.0, 31.0, 0.248, 26.0] \t=> 0 (expected 1)\n",
            "[10.0, 115.0, 0.0, 0.0, 0.0, 35.3, 0.134, 29.0] \t=> 1 (expected 0)\n",
            "[2.0, 197.0, 70.0, 45.0, 543.0, 30.5, 0.158, 53.0] \t=> 1 (expected 1)\n",
            "[8.0, 125.0, 96.0, 0.0, 0.0, 0.0, 0.232, 54.0] \t=> 0 (expected 1)\n"
          ]
        }
      ]
    }
  ]
}